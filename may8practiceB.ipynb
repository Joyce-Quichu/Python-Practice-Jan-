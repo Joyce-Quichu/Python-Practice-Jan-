{
 "cells": [
  {
   "cell_type": "code",
   "execution_count": 1,
   "metadata": {},
   "outputs": [],
   "source": [
    "import pandas as pd"
   ]
  },
  {
   "cell_type": "code",
   "execution_count": 2,
   "metadata": {},
   "outputs": [],
   "source": [
    "import numpy as np"
   ]
  },
  {
   "cell_type": "code",
   "execution_count": 3,
   "metadata": {},
   "outputs": [],
   "source": [
    "from numpy.random import rand"
   ]
  },
  {
   "cell_type": "code",
   "execution_count": 5,
   "metadata": {},
   "outputs": [
    {
     "data": {
      "text/html": [
       "<div>\n",
       "<style scoped>\n",
       "    .dataframe tbody tr th:only-of-type {\n",
       "        vertical-align: middle;\n",
       "    }\n",
       "\n",
       "    .dataframe tbody tr th {\n",
       "        vertical-align: top;\n",
       "    }\n",
       "\n",
       "    .dataframe thead th {\n",
       "        text-align: right;\n",
       "    }\n",
       "</style>\n",
       "<table border=\"1\" class=\"dataframe\">\n",
       "  <thead>\n",
       "    <tr style=\"text-align: right;\">\n",
       "      <th></th>\n",
       "      <th>W</th>\n",
       "      <th>X</th>\n",
       "      <th>Y</th>\n",
       "      <th>Z</th>\n",
       "    </tr>\n",
       "  </thead>\n",
       "  <tbody>\n",
       "    <tr>\n",
       "      <th>A</th>\n",
       "      <td>0.705425</td>\n",
       "      <td>0.473516</td>\n",
       "      <td>0.336566</td>\n",
       "      <td>0.308940</td>\n",
       "    </tr>\n",
       "    <tr>\n",
       "      <th>B</th>\n",
       "      <td>0.282507</td>\n",
       "      <td>0.195407</td>\n",
       "      <td>0.667633</td>\n",
       "      <td>0.842010</td>\n",
       "    </tr>\n",
       "    <tr>\n",
       "      <th>C</th>\n",
       "      <td>0.085154</td>\n",
       "      <td>0.781166</td>\n",
       "      <td>0.044988</td>\n",
       "      <td>0.437112</td>\n",
       "    </tr>\n",
       "    <tr>\n",
       "      <th>D</th>\n",
       "      <td>0.719944</td>\n",
       "      <td>0.114606</td>\n",
       "      <td>0.524346</td>\n",
       "      <td>0.709447</td>\n",
       "    </tr>\n",
       "    <tr>\n",
       "      <th>E</th>\n",
       "      <td>0.791445</td>\n",
       "      <td>0.325154</td>\n",
       "      <td>0.714826</td>\n",
       "      <td>0.696958</td>\n",
       "    </tr>\n",
       "  </tbody>\n",
       "</table>\n",
       "</div>"
      ],
      "text/plain": [
       "          W         X         Y         Z\n",
       "A  0.705425  0.473516  0.336566  0.308940\n",
       "B  0.282507  0.195407  0.667633  0.842010\n",
       "C  0.085154  0.781166  0.044988  0.437112\n",
       "D  0.719944  0.114606  0.524346  0.709447\n",
       "E  0.791445  0.325154  0.714826  0.696958"
      ]
     },
     "execution_count": 5,
     "metadata": {},
     "output_type": "execute_result"
    }
   ],
   "source": [
    "df=pd.DataFrame(rand(5,4),index='A B C D E'.split(),columns='W X Y Z'.split())\n",
    "df"
   ]
  },
  {
   "cell_type": "code",
   "execution_count": 6,
   "metadata": {},
   "outputs": [],
   "source": [
    "df['new']=df['W']+df['Y']"
   ]
  },
  {
   "cell_type": "code",
   "execution_count": 8,
   "metadata": {},
   "outputs": [
    {
     "data": {
      "text/html": [
       "<div>\n",
       "<style scoped>\n",
       "    .dataframe tbody tr th:only-of-type {\n",
       "        vertical-align: middle;\n",
       "    }\n",
       "\n",
       "    .dataframe tbody tr th {\n",
       "        vertical-align: top;\n",
       "    }\n",
       "\n",
       "    .dataframe thead th {\n",
       "        text-align: right;\n",
       "    }\n",
       "</style>\n",
       "<table border=\"1\" class=\"dataframe\">\n",
       "  <thead>\n",
       "    <tr style=\"text-align: right;\">\n",
       "      <th></th>\n",
       "      <th>W</th>\n",
       "      <th>X</th>\n",
       "      <th>Y</th>\n",
       "      <th>Z</th>\n",
       "      <th>new</th>\n",
       "    </tr>\n",
       "  </thead>\n",
       "  <tbody>\n",
       "    <tr>\n",
       "      <th>A</th>\n",
       "      <td>0.705425</td>\n",
       "      <td>0.473516</td>\n",
       "      <td>0.336566</td>\n",
       "      <td>0.308940</td>\n",
       "      <td>1.041991</td>\n",
       "    </tr>\n",
       "    <tr>\n",
       "      <th>B</th>\n",
       "      <td>0.282507</td>\n",
       "      <td>0.195407</td>\n",
       "      <td>0.667633</td>\n",
       "      <td>0.842010</td>\n",
       "      <td>0.950140</td>\n",
       "    </tr>\n",
       "    <tr>\n",
       "      <th>C</th>\n",
       "      <td>0.085154</td>\n",
       "      <td>0.781166</td>\n",
       "      <td>0.044988</td>\n",
       "      <td>0.437112</td>\n",
       "      <td>0.130142</td>\n",
       "    </tr>\n",
       "    <tr>\n",
       "      <th>D</th>\n",
       "      <td>0.719944</td>\n",
       "      <td>0.114606</td>\n",
       "      <td>0.524346</td>\n",
       "      <td>0.709447</td>\n",
       "      <td>1.244291</td>\n",
       "    </tr>\n",
       "    <tr>\n",
       "      <th>E</th>\n",
       "      <td>0.791445</td>\n",
       "      <td>0.325154</td>\n",
       "      <td>0.714826</td>\n",
       "      <td>0.696958</td>\n",
       "      <td>1.506271</td>\n",
       "    </tr>\n",
       "  </tbody>\n",
       "</table>\n",
       "</div>"
      ],
      "text/plain": [
       "          W         X         Y         Z       new\n",
       "A  0.705425  0.473516  0.336566  0.308940  1.041991\n",
       "B  0.282507  0.195407  0.667633  0.842010  0.950140\n",
       "C  0.085154  0.781166  0.044988  0.437112  0.130142\n",
       "D  0.719944  0.114606  0.524346  0.709447  1.244291\n",
       "E  0.791445  0.325154  0.714826  0.696958  1.506271"
      ]
     },
     "execution_count": 8,
     "metadata": {},
     "output_type": "execute_result"
    }
   ],
   "source": [
    "df"
   ]
  },
  {
   "cell_type": "code",
   "execution_count": 10,
   "metadata": {},
   "outputs": [
    {
     "data": {
      "text/html": [
       "<div>\n",
       "<style scoped>\n",
       "    .dataframe tbody tr th:only-of-type {\n",
       "        vertical-align: middle;\n",
       "    }\n",
       "\n",
       "    .dataframe tbody tr th {\n",
       "        vertical-align: top;\n",
       "    }\n",
       "\n",
       "    .dataframe thead th {\n",
       "        text-align: right;\n",
       "    }\n",
       "</style>\n",
       "<table border=\"1\" class=\"dataframe\">\n",
       "  <thead>\n",
       "    <tr style=\"text-align: right;\">\n",
       "      <th></th>\n",
       "      <th>W</th>\n",
       "      <th>X</th>\n",
       "      <th>Y</th>\n",
       "      <th>Z</th>\n",
       "    </tr>\n",
       "  </thead>\n",
       "  <tbody>\n",
       "    <tr>\n",
       "      <th>A</th>\n",
       "      <td>0.705425</td>\n",
       "      <td>0.473516</td>\n",
       "      <td>0.336566</td>\n",
       "      <td>0.308940</td>\n",
       "    </tr>\n",
       "    <tr>\n",
       "      <th>B</th>\n",
       "      <td>0.282507</td>\n",
       "      <td>0.195407</td>\n",
       "      <td>0.667633</td>\n",
       "      <td>0.842010</td>\n",
       "    </tr>\n",
       "    <tr>\n",
       "      <th>C</th>\n",
       "      <td>0.085154</td>\n",
       "      <td>0.781166</td>\n",
       "      <td>0.044988</td>\n",
       "      <td>0.437112</td>\n",
       "    </tr>\n",
       "    <tr>\n",
       "      <th>D</th>\n",
       "      <td>0.719944</td>\n",
       "      <td>0.114606</td>\n",
       "      <td>0.524346</td>\n",
       "      <td>0.709447</td>\n",
       "    </tr>\n",
       "    <tr>\n",
       "      <th>E</th>\n",
       "      <td>0.791445</td>\n",
       "      <td>0.325154</td>\n",
       "      <td>0.714826</td>\n",
       "      <td>0.696958</td>\n",
       "    </tr>\n",
       "  </tbody>\n",
       "</table>\n",
       "</div>"
      ],
      "text/plain": [
       "          W         X         Y         Z\n",
       "A  0.705425  0.473516  0.336566  0.308940\n",
       "B  0.282507  0.195407  0.667633  0.842010\n",
       "C  0.085154  0.781166  0.044988  0.437112\n",
       "D  0.719944  0.114606  0.524346  0.709447\n",
       "E  0.791445  0.325154  0.714826  0.696958"
      ]
     },
     "execution_count": 10,
     "metadata": {},
     "output_type": "execute_result"
    }
   ],
   "source": [
    "df.drop(['new'],axis=1)"
   ]
  },
  {
   "cell_type": "code",
   "execution_count": 11,
   "metadata": {},
   "outputs": [
    {
     "data": {
      "text/html": [
       "<div>\n",
       "<style scoped>\n",
       "    .dataframe tbody tr th:only-of-type {\n",
       "        vertical-align: middle;\n",
       "    }\n",
       "\n",
       "    .dataframe tbody tr th {\n",
       "        vertical-align: top;\n",
       "    }\n",
       "\n",
       "    .dataframe thead th {\n",
       "        text-align: right;\n",
       "    }\n",
       "</style>\n",
       "<table border=\"1\" class=\"dataframe\">\n",
       "  <thead>\n",
       "    <tr style=\"text-align: right;\">\n",
       "      <th></th>\n",
       "      <th>W</th>\n",
       "      <th>X</th>\n",
       "      <th>Y</th>\n",
       "      <th>Z</th>\n",
       "      <th>new</th>\n",
       "    </tr>\n",
       "  </thead>\n",
       "  <tbody>\n",
       "    <tr>\n",
       "      <th>A</th>\n",
       "      <td>0.705425</td>\n",
       "      <td>0.473516</td>\n",
       "      <td>0.336566</td>\n",
       "      <td>0.308940</td>\n",
       "      <td>1.041991</td>\n",
       "    </tr>\n",
       "    <tr>\n",
       "      <th>B</th>\n",
       "      <td>0.282507</td>\n",
       "      <td>0.195407</td>\n",
       "      <td>0.667633</td>\n",
       "      <td>0.842010</td>\n",
       "      <td>0.950140</td>\n",
       "    </tr>\n",
       "    <tr>\n",
       "      <th>C</th>\n",
       "      <td>0.085154</td>\n",
       "      <td>0.781166</td>\n",
       "      <td>0.044988</td>\n",
       "      <td>0.437112</td>\n",
       "      <td>0.130142</td>\n",
       "    </tr>\n",
       "    <tr>\n",
       "      <th>D</th>\n",
       "      <td>0.719944</td>\n",
       "      <td>0.114606</td>\n",
       "      <td>0.524346</td>\n",
       "      <td>0.709447</td>\n",
       "      <td>1.244291</td>\n",
       "    </tr>\n",
       "    <tr>\n",
       "      <th>E</th>\n",
       "      <td>0.791445</td>\n",
       "      <td>0.325154</td>\n",
       "      <td>0.714826</td>\n",
       "      <td>0.696958</td>\n",
       "      <td>1.506271</td>\n",
       "    </tr>\n",
       "  </tbody>\n",
       "</table>\n",
       "</div>"
      ],
      "text/plain": [
       "          W         X         Y         Z       new\n",
       "A  0.705425  0.473516  0.336566  0.308940  1.041991\n",
       "B  0.282507  0.195407  0.667633  0.842010  0.950140\n",
       "C  0.085154  0.781166  0.044988  0.437112  0.130142\n",
       "D  0.719944  0.114606  0.524346  0.709447  1.244291\n",
       "E  0.791445  0.325154  0.714826  0.696958  1.506271"
      ]
     },
     "execution_count": 11,
     "metadata": {},
     "output_type": "execute_result"
    }
   ],
   "source": [
    "df"
   ]
  },
  {
   "cell_type": "code",
   "execution_count": 12,
   "metadata": {},
   "outputs": [
    {
     "data": {
      "text/html": [
       "<div>\n",
       "<style scoped>\n",
       "    .dataframe tbody tr th:only-of-type {\n",
       "        vertical-align: middle;\n",
       "    }\n",
       "\n",
       "    .dataframe tbody tr th {\n",
       "        vertical-align: top;\n",
       "    }\n",
       "\n",
       "    .dataframe thead th {\n",
       "        text-align: right;\n",
       "    }\n",
       "</style>\n",
       "<table border=\"1\" class=\"dataframe\">\n",
       "  <thead>\n",
       "    <tr style=\"text-align: right;\">\n",
       "      <th></th>\n",
       "      <th>W</th>\n",
       "      <th>Y</th>\n",
       "    </tr>\n",
       "  </thead>\n",
       "  <tbody>\n",
       "    <tr>\n",
       "      <th>A</th>\n",
       "      <td>0.705425</td>\n",
       "      <td>0.336566</td>\n",
       "    </tr>\n",
       "    <tr>\n",
       "      <th>B</th>\n",
       "      <td>0.282507</td>\n",
       "      <td>0.667633</td>\n",
       "    </tr>\n",
       "    <tr>\n",
       "      <th>C</th>\n",
       "      <td>0.085154</td>\n",
       "      <td>0.044988</td>\n",
       "    </tr>\n",
       "    <tr>\n",
       "      <th>D</th>\n",
       "      <td>0.719944</td>\n",
       "      <td>0.524346</td>\n",
       "    </tr>\n",
       "    <tr>\n",
       "      <th>E</th>\n",
       "      <td>0.791445</td>\n",
       "      <td>0.714826</td>\n",
       "    </tr>\n",
       "  </tbody>\n",
       "</table>\n",
       "</div>"
      ],
      "text/plain": [
       "          W         Y\n",
       "A  0.705425  0.336566\n",
       "B  0.282507  0.667633\n",
       "C  0.085154  0.044988\n",
       "D  0.719944  0.524346\n",
       "E  0.791445  0.714826"
      ]
     },
     "execution_count": 12,
     "metadata": {},
     "output_type": "execute_result"
    }
   ],
   "source": [
    "df[['W','Y']]"
   ]
  },
  {
   "cell_type": "code",
   "execution_count": 13,
   "metadata": {},
   "outputs": [
    {
     "data": {
      "text/plain": [
       "A    1.041991\n",
       "B    0.950140\n",
       "C    0.130142\n",
       "D    1.244291\n",
       "E    1.506271\n",
       "Name: new, dtype: float64"
      ]
     },
     "execution_count": 13,
     "metadata": {},
     "output_type": "execute_result"
    }
   ],
   "source": [
    "df['new']"
   ]
  },
  {
   "cell_type": "code",
   "execution_count": 15,
   "metadata": {},
   "outputs": [
    {
     "data": {
      "text/plain": [
       "A     True\n",
       "B    False\n",
       "C    False\n",
       "D     True\n",
       "E     True\n",
       "Name: W, dtype: bool"
      ]
     },
     "execution_count": 15,
     "metadata": {},
     "output_type": "execute_result"
    }
   ],
   "source": [
    "df['W']>0.5"
   ]
  },
  {
   "cell_type": "code",
   "execution_count": 19,
   "metadata": {},
   "outputs": [
    {
     "data": {
      "text/html": [
       "<div>\n",
       "<style scoped>\n",
       "    .dataframe tbody tr th:only-of-type {\n",
       "        vertical-align: middle;\n",
       "    }\n",
       "\n",
       "    .dataframe tbody tr th {\n",
       "        vertical-align: top;\n",
       "    }\n",
       "\n",
       "    .dataframe thead th {\n",
       "        text-align: right;\n",
       "    }\n",
       "</style>\n",
       "<table border=\"1\" class=\"dataframe\">\n",
       "  <thead>\n",
       "    <tr style=\"text-align: right;\">\n",
       "      <th></th>\n",
       "      <th>0</th>\n",
       "      <th>1</th>\n",
       "      <th>2</th>\n",
       "      <th>3</th>\n",
       "      <th>4</th>\n",
       "      <th>5</th>\n",
       "    </tr>\n",
       "  </thead>\n",
       "  <tbody>\n",
       "    <tr>\n",
       "      <th>0</th>\n",
       "      <td>0.593276</td>\n",
       "      <td>0.089201</td>\n",
       "      <td>0.782415</td>\n",
       "      <td>0.404260</td>\n",
       "      <td>0.430131</td>\n",
       "      <td>0.377723</td>\n",
       "    </tr>\n",
       "    <tr>\n",
       "      <th>1</th>\n",
       "      <td>0.512933</td>\n",
       "      <td>0.294300</td>\n",
       "      <td>0.652510</td>\n",
       "      <td>0.592619</td>\n",
       "      <td>0.932424</td>\n",
       "      <td>0.905391</td>\n",
       "    </tr>\n",
       "    <tr>\n",
       "      <th>2</th>\n",
       "      <td>0.507614</td>\n",
       "      <td>0.761735</td>\n",
       "      <td>0.294396</td>\n",
       "      <td>0.251832</td>\n",
       "      <td>0.745355</td>\n",
       "      <td>0.190070</td>\n",
       "    </tr>\n",
       "    <tr>\n",
       "      <th>3</th>\n",
       "      <td>0.220423</td>\n",
       "      <td>0.501094</td>\n",
       "      <td>0.262788</td>\n",
       "      <td>0.243079</td>\n",
       "      <td>0.794477</td>\n",
       "      <td>0.193129</td>\n",
       "    </tr>\n",
       "    <tr>\n",
       "      <th>4</th>\n",
       "      <td>0.134229</td>\n",
       "      <td>0.851415</td>\n",
       "      <td>0.136293</td>\n",
       "      <td>0.512710</td>\n",
       "      <td>0.205112</td>\n",
       "      <td>0.830784</td>\n",
       "    </tr>\n",
       "  </tbody>\n",
       "</table>\n",
       "</div>"
      ],
      "text/plain": [
       "          0         1         2         3         4         5\n",
       "0  0.593276  0.089201  0.782415  0.404260  0.430131  0.377723\n",
       "1  0.512933  0.294300  0.652510  0.592619  0.932424  0.905391\n",
       "2  0.507614  0.761735  0.294396  0.251832  0.745355  0.190070\n",
       "3  0.220423  0.501094  0.262788  0.243079  0.794477  0.193129\n",
       "4  0.134229  0.851415  0.136293  0.512710  0.205112  0.830784"
      ]
     },
     "execution_count": 19,
     "metadata": {},
     "output_type": "execute_result"
    }
   ],
   "source": [
    "df=pd.DataFrame(rand(5,6))\n",
    "df"
   ]
  },
  {
   "cell_type": "code",
   "execution_count": 20,
   "metadata": {},
   "outputs": [
    {
     "name": "stdout",
     "output_type": "stream",
     "text": [
      "<class 'pandas.core.frame.DataFrame'>\n",
      "RangeIndex: 5 entries, 0 to 4\n",
      "Data columns (total 6 columns):\n",
      " #   Column  Non-Null Count  Dtype  \n",
      "---  ------  --------------  -----  \n",
      " 0   0       5 non-null      float64\n",
      " 1   1       5 non-null      float64\n",
      " 2   2       5 non-null      float64\n",
      " 3   3       5 non-null      float64\n",
      " 4   4       5 non-null      float64\n",
      " 5   5       5 non-null      float64\n",
      "dtypes: float64(6)\n",
      "memory usage: 368.0 bytes\n"
     ]
    }
   ],
   "source": [
    "df.info()"
   ]
  },
  {
   "cell_type": "code",
   "execution_count": 22,
   "metadata": {},
   "outputs": [
    {
     "data": {
      "text/html": [
       "<div>\n",
       "<style scoped>\n",
       "    .dataframe tbody tr th:only-of-type {\n",
       "        vertical-align: middle;\n",
       "    }\n",
       "\n",
       "    .dataframe tbody tr th {\n",
       "        vertical-align: top;\n",
       "    }\n",
       "\n",
       "    .dataframe thead th {\n",
       "        text-align: right;\n",
       "    }\n",
       "</style>\n",
       "<table border=\"1\" class=\"dataframe\">\n",
       "  <thead>\n",
       "    <tr style=\"text-align: right;\">\n",
       "      <th></th>\n",
       "      <th>0</th>\n",
       "      <th>1</th>\n",
       "      <th>2</th>\n",
       "      <th>3</th>\n",
       "      <th>4</th>\n",
       "      <th>5</th>\n",
       "    </tr>\n",
       "  </thead>\n",
       "  <tbody>\n",
       "    <tr>\n",
       "      <th>count</th>\n",
       "      <td>5.000000</td>\n",
       "      <td>5.000000</td>\n",
       "      <td>5.000000</td>\n",
       "      <td>5.000000</td>\n",
       "      <td>5.000000</td>\n",
       "      <td>5.000000</td>\n",
       "    </tr>\n",
       "    <tr>\n",
       "      <th>mean</th>\n",
       "      <td>0.393695</td>\n",
       "      <td>0.499549</td>\n",
       "      <td>0.425681</td>\n",
       "      <td>0.400900</td>\n",
       "      <td>0.621500</td>\n",
       "      <td>0.499420</td>\n",
       "    </tr>\n",
       "    <tr>\n",
       "      <th>std</th>\n",
       "      <td>0.202715</td>\n",
       "      <td>0.317437</td>\n",
       "      <td>0.276688</td>\n",
       "      <td>0.155240</td>\n",
       "      <td>0.296621</td>\n",
       "      <td>0.346026</td>\n",
       "    </tr>\n",
       "    <tr>\n",
       "      <th>min</th>\n",
       "      <td>0.134229</td>\n",
       "      <td>0.089201</td>\n",
       "      <td>0.136293</td>\n",
       "      <td>0.243079</td>\n",
       "      <td>0.205112</td>\n",
       "      <td>0.190070</td>\n",
       "    </tr>\n",
       "    <tr>\n",
       "      <th>25%</th>\n",
       "      <td>0.220423</td>\n",
       "      <td>0.294300</td>\n",
       "      <td>0.262788</td>\n",
       "      <td>0.251832</td>\n",
       "      <td>0.430131</td>\n",
       "      <td>0.193129</td>\n",
       "    </tr>\n",
       "    <tr>\n",
       "      <th>50%</th>\n",
       "      <td>0.507614</td>\n",
       "      <td>0.501094</td>\n",
       "      <td>0.294396</td>\n",
       "      <td>0.404260</td>\n",
       "      <td>0.745355</td>\n",
       "      <td>0.377723</td>\n",
       "    </tr>\n",
       "    <tr>\n",
       "      <th>75%</th>\n",
       "      <td>0.512933</td>\n",
       "      <td>0.761735</td>\n",
       "      <td>0.652510</td>\n",
       "      <td>0.512710</td>\n",
       "      <td>0.794477</td>\n",
       "      <td>0.830784</td>\n",
       "    </tr>\n",
       "    <tr>\n",
       "      <th>max</th>\n",
       "      <td>0.593276</td>\n",
       "      <td>0.851415</td>\n",
       "      <td>0.782415</td>\n",
       "      <td>0.592619</td>\n",
       "      <td>0.932424</td>\n",
       "      <td>0.905391</td>\n",
       "    </tr>\n",
       "  </tbody>\n",
       "</table>\n",
       "</div>"
      ],
      "text/plain": [
       "              0         1         2         3         4         5\n",
       "count  5.000000  5.000000  5.000000  5.000000  5.000000  5.000000\n",
       "mean   0.393695  0.499549  0.425681  0.400900  0.621500  0.499420\n",
       "std    0.202715  0.317437  0.276688  0.155240  0.296621  0.346026\n",
       "min    0.134229  0.089201  0.136293  0.243079  0.205112  0.190070\n",
       "25%    0.220423  0.294300  0.262788  0.251832  0.430131  0.193129\n",
       "50%    0.507614  0.501094  0.294396  0.404260  0.745355  0.377723\n",
       "75%    0.512933  0.761735  0.652510  0.512710  0.794477  0.830784\n",
       "max    0.593276  0.851415  0.782415  0.592619  0.932424  0.905391"
      ]
     },
     "execution_count": 22,
     "metadata": {},
     "output_type": "execute_result"
    }
   ],
   "source": [
    "df.describe()"
   ]
  },
  {
   "cell_type": "code",
   "execution_count": 26,
   "metadata": {},
   "outputs": [
    {
     "data": {
      "text/html": [
       "<div>\n",
       "<style scoped>\n",
       "    .dataframe tbody tr th:only-of-type {\n",
       "        vertical-align: middle;\n",
       "    }\n",
       "\n",
       "    .dataframe tbody tr th {\n",
       "        vertical-align: top;\n",
       "    }\n",
       "\n",
       "    .dataframe thead th {\n",
       "        text-align: right;\n",
       "    }\n",
       "</style>\n",
       "<table border=\"1\" class=\"dataframe\">\n",
       "  <thead>\n",
       "    <tr style=\"text-align: right;\">\n",
       "      <th></th>\n",
       "      <th>A</th>\n",
       "      <th>B</th>\n",
       "      <th>C</th>\n",
       "      <th>D</th>\n",
       "      <th>E</th>\n",
       "      <th>F</th>\n",
       "    </tr>\n",
       "  </thead>\n",
       "  <tbody>\n",
       "    <tr>\n",
       "      <th>0</th>\n",
       "      <td>0.593276</td>\n",
       "      <td>0.089201</td>\n",
       "      <td>0.782415</td>\n",
       "      <td>0.404260</td>\n",
       "      <td>0.430131</td>\n",
       "      <td>0.377723</td>\n",
       "    </tr>\n",
       "    <tr>\n",
       "      <th>1</th>\n",
       "      <td>0.512933</td>\n",
       "      <td>0.294300</td>\n",
       "      <td>0.652510</td>\n",
       "      <td>0.592619</td>\n",
       "      <td>0.932424</td>\n",
       "      <td>0.905391</td>\n",
       "    </tr>\n",
       "    <tr>\n",
       "      <th>2</th>\n",
       "      <td>0.507614</td>\n",
       "      <td>0.761735</td>\n",
       "      <td>0.294396</td>\n",
       "      <td>0.251832</td>\n",
       "      <td>0.745355</td>\n",
       "      <td>0.190070</td>\n",
       "    </tr>\n",
       "    <tr>\n",
       "      <th>3</th>\n",
       "      <td>0.220423</td>\n",
       "      <td>0.501094</td>\n",
       "      <td>0.262788</td>\n",
       "      <td>0.243079</td>\n",
       "      <td>0.794477</td>\n",
       "      <td>0.193129</td>\n",
       "    </tr>\n",
       "    <tr>\n",
       "      <th>4</th>\n",
       "      <td>0.134229</td>\n",
       "      <td>0.851415</td>\n",
       "      <td>0.136293</td>\n",
       "      <td>0.512710</td>\n",
       "      <td>0.205112</td>\n",
       "      <td>0.830784</td>\n",
       "    </tr>\n",
       "  </tbody>\n",
       "</table>\n",
       "</div>"
      ],
      "text/plain": [
       "          A         B         C         D         E         F\n",
       "0  0.593276  0.089201  0.782415  0.404260  0.430131  0.377723\n",
       "1  0.512933  0.294300  0.652510  0.592619  0.932424  0.905391\n",
       "2  0.507614  0.761735  0.294396  0.251832  0.745355  0.190070\n",
       "3  0.220423  0.501094  0.262788  0.243079  0.794477  0.193129\n",
       "4  0.134229  0.851415  0.136293  0.512710  0.205112  0.830784"
      ]
     },
     "execution_count": 26,
     "metadata": {},
     "output_type": "execute_result"
    }
   ],
   "source": [
    "df.rename({0:'A',1:'B',2:'C',3:'D',4:'E',5:'F'},axis='columns')"
   ]
  },
  {
   "cell_type": "code",
   "execution_count": 29,
   "metadata": {},
   "outputs": [],
   "source": [
    "a=np.arange(10)"
   ]
  },
  {
   "cell_type": "code",
   "execution_count": 30,
   "metadata": {},
   "outputs": [
    {
     "data": {
      "text/plain": [
       "array([0, 1, 2, 3, 4, 5, 6, 7, 8, 9])"
      ]
     },
     "execution_count": 30,
     "metadata": {},
     "output_type": "execute_result"
    }
   ],
   "source": [
    "a"
   ]
  },
  {
   "cell_type": "code",
   "execution_count": 31,
   "metadata": {},
   "outputs": [
    {
     "data": {
      "text/plain": [
       "array([[0, 1, 2, 3, 4],\n",
       "       [5, 6, 7, 8, 9]])"
      ]
     },
     "execution_count": 31,
     "metadata": {},
     "output_type": "execute_result"
    }
   ],
   "source": [
    "a.reshape(2,5)"
   ]
  },
  {
   "cell_type": "code",
   "execution_count": 39,
   "metadata": {},
   "outputs": [
    {
     "name": "stdout",
     "output_type": "stream",
     "text": [
      "user num5\n",
      "its a prime num\n"
     ]
    }
   ],
   "source": [
    "num=int(input('user num'))\n",
    "mul=0\n",
    "for i in range(2,num):\n",
    "    if num%i==0:\n",
    "        mul=mul+i\n",
    "if mul==0:\n",
    "    print('its a prime num')\n",
    "else:\n",
    "    print('its not a prime num')"
   ]
  },
  {
   "cell_type": "code",
   "execution_count": 40,
   "metadata": {},
   "outputs": [
    {
     "name": "stdout",
     "output_type": "stream",
     "text": [
      "user num15\n",
      "outside the loop 14\n"
     ]
    }
   ],
   "source": [
    "mul=int(input('user num'))\n",
    "adm=0\n",
    "for i in range(2,mul):\n",
    "    if mul==0:\n",
    "        adm=adm+i\n",
    "if mul%i==0:\n",
    "    print('in the loop',i)\n",
    "else:\n",
    "    print('outside the loop',i)"
   ]
  },
  {
   "cell_type": "code",
   "execution_count": 41,
   "metadata": {},
   "outputs": [
    {
     "ename": "SyntaxError",
     "evalue": "unexpected EOF while parsing (<ipython-input-41-d31e835cbfd0>, line 8)",
     "output_type": "error",
     "traceback": [
      "\u001b[0;36m  File \u001b[0;32m\"<ipython-input-41-d31e835cbfd0>\"\u001b[0;36m, line \u001b[0;32m8\u001b[0m\n\u001b[0;31m    \u001b[0m\n\u001b[0m    ^\u001b[0m\n\u001b[0;31mSyntaxError\u001b[0m\u001b[0;31m:\u001b[0m unexpected EOF while parsing\n"
     ]
    }
   ],
   "source": [
    "kel=int(input('use num'))\n",
    "ken=0\n",
    "for i in range(2,kel):\n",
    "    if kel==0:\n",
    "        ken=ken+i\n",
    "if kel%i==0:\n",
    "\n",
    "    "
   ]
  },
  {
   "cell_type": "code",
   "execution_count": null,
   "metadata": {},
   "outputs": [],
   "source": []
  }
 ],
 "metadata": {
  "kernelspec": {
   "display_name": "Python 3",
   "language": "python",
   "name": "python3"
  },
  "language_info": {
   "codemirror_mode": {
    "name": "ipython",
    "version": 3
   },
   "file_extension": ".py",
   "mimetype": "text/x-python",
   "name": "python",
   "nbconvert_exporter": "python",
   "pygments_lexer": "ipython3",
   "version": "3.8.3"
  }
 },
 "nbformat": 4,
 "nbformat_minor": 4
}
