{
 "cells": [
  {
   "cell_type": "code",
   "execution_count": 1,
   "id": "fd5a93c3",
   "metadata": {},
   "outputs": [
    {
     "name": "stdout",
     "output_type": "stream",
     "text": [
      "[11, 13, 14, 15, 16, 17, 18, 19]\n"
     ]
    }
   ],
   "source": [
    "goat=[1,3,4,5,6,7,8,9]\n",
    "fox=[]\n",
    "for num in goat:\n",
    "    fox.append(num+10)\n",
    "print(fox)"
   ]
  },
  {
   "cell_type": "code",
   "execution_count": 4,
   "id": "2ce1870e",
   "metadata": {},
   "outputs": [
    {
     "name": "stdout",
     "output_type": "stream",
     "text": [
      "[3, 4, 6, 7, 11, 29, 31, 49]\n"
     ]
    }
   ],
   "source": [
    "cat=[2,3,5,6,10,28,30,48]\n",
    "mouse=[num+1 for num in cat]\n",
    "print(mouse)"
   ]
  },
  {
   "cell_type": "code",
   "execution_count": 8,
   "id": "d3b9e078",
   "metadata": {},
   "outputs": [
    {
     "name": "stdout",
     "output_type": "stream",
     "text": [
      "[1, 2, 3, 4, 5, 6, 7, 8, 9, 10, 11, 12, 13, 14, 15, 16, 17, 18, 19, 20, 21, 22, 23, 24, 25, 26, 27, 28, 29, 30, 31, 32, 33, 34, 35, 36, 37, 38, 39, 40, 41, 42, 43, 44, 45, 46, 47, 48, 49, 50, 51, 52, 53, 54, 55, 56, 57, 58, 59, 60, 61, 62, 63, 64, 65, 66, 67, 68, 69, 70, 71, 72, 73, 74, 75, 76, 77, 78, 79, 80, 81, 82, 83, 84, 85, 86, 87, 88, 89, 90, 91, 92, 93, 94, 95, 96, 97, 98, 99, 100]\n"
     ]
    }
   ],
   "source": [
    "edge=[num for num in range(100)]\n",
    "gab=[]\n",
    "for num in edge:\n",
    "    gab.append(num+1)\n",
    "print(gab)"
   ]
  },
  {
   "cell_type": "code",
   "execution_count": 20,
   "id": "36cee44e",
   "metadata": {},
   "outputs": [
    {
     "name": "stdout",
     "output_type": "stream",
     "text": [
      "[['emma', 1.4, 'map', 467], ['ada', 28, 'map', 467], ['max', 67, 'map', 467], ['was', 'qun', 'map', 467]]\n"
     ]
    }
   ],
   "source": [
    "gem1=[['emma',1.4],['ada',28],['max',67],['was','qun']]\n",
    "hen=[]\n",
    "for num in gem1:\n",
    "    hen.append(num + ['map',467])\n",
    "print(hen)"
   ]
  },
  {
   "cell_type": "code",
   "execution_count": 21,
   "id": "f2df9b59",
   "metadata": {},
   "outputs": [
    {
     "data": {
      "text/plain": [
       "[['emma', 1.4], ['ada', 28], ['max', 67], ['was', 'qun']]"
      ]
     },
     "execution_count": 21,
     "metadata": {},
     "output_type": "execute_result"
    }
   ],
   "source": [
    "gem1"
   ]
  },
  {
   "cell_type": "code",
   "execution_count": 25,
   "id": "7e1595b7",
   "metadata": {},
   "outputs": [
    {
     "data": {
      "text/plain": [
       "[]"
      ]
     },
     "execution_count": 25,
     "metadata": {},
     "output_type": "execute_result"
    }
   ],
   "source": [
    "hen"
   ]
  },
  {
   "cell_type": "code",
   "execution_count": null,
   "id": "99726b74",
   "metadata": {},
   "outputs": [],
   "source": []
  }
 ],
 "metadata": {
  "kernelspec": {
   "display_name": "Python 3 (ipykernel)",
   "language": "python",
   "name": "python3"
  },
  "language_info": {
   "codemirror_mode": {
    "name": "ipython",
    "version": 3
   },
   "file_extension": ".py",
   "mimetype": "text/x-python",
   "name": "python",
   "nbconvert_exporter": "python",
   "pygments_lexer": "ipython3",
   "version": "3.9.12"
  }
 },
 "nbformat": 4,
 "nbformat_minor": 5
}
